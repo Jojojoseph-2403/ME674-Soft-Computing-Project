{
 "cells": [
  {
   "cell_type": "code",
   "execution_count": 5,
   "metadata": {
    "colab": {
     "base_uri": "https://localhost:8080/",
     "height": 0
    },
    "id": "Uhk5EugHlVHv",
    "outputId": "04c3915b-4b19-4951-af14-e4ae0bd129fb"
   },
   "outputs": [
    {
     "name": "stdout",
     "output_type": "stream",
     "text": [
      "   Cycle_Index  Discharge Time (s)  Decrement 3.6-3.4V (s)  \\\n",
      "0            1             2595.30             1151.488500   \n",
      "1            2             7408.64             1172.512500   \n",
      "2            3             7393.76             1112.992000   \n",
      "3            4             7385.50             1080.320667   \n",
      "4            6            65022.75            29813.487000   \n",
      "\n",
      "   Max. Voltage Dischar. (V)  Min. Voltage Charg. (V)  Time at 4.15V (s)  \\\n",
      "0                      3.670                    3.211           5460.001   \n",
      "1                      4.246                    3.220           5508.992   \n",
      "2                      4.249                    3.224           5508.993   \n",
      "3                      4.250                    3.225           5502.016   \n",
      "4                      4.290                    3.398           5480.992   \n",
      "\n",
      "   Time constant current (s)  Charging time (s)   RUL  \n",
      "0                    6755.01           10777.82  1112  \n",
      "1                    6762.02           10500.35  1111  \n",
      "2                    6762.02           10420.38  1110  \n",
      "3                    6762.02           10322.81  1109  \n",
      "4                   53213.54           56699.65  1107  \n"
     ]
    }
   ],
   "source": [
    "import pandas as pd\n",
    "\n",
    "# Load the uploaded CSV file into a DataFrame (replace 'your_dataset.csv' with the actual file name)\n",
    "df = pd.read_csv('Battery_RUL.csv')\n",
    "print(df.head())  # Print the first few rows to verify the data\n"
   ]
  },
  {
   "cell_type": "code",
   "execution_count": null,
   "metadata": {
    "colab": {
     "base_uri": "https://localhost:8080/",
     "height": 0
    },
    "id": "wg53TzZtmeLY",
    "outputId": "7cc7c8c6-d87d-4791-fa2a-15cfc36bd6c5"
   },
   "outputs": [
    {
     "name": "stdout",
     "output_type": "stream",
     "text": [
      "(12051, 8) (3013, 8) (12051,) (3013,)\n"
     ]
    }
   ],
   "source": [
    "# Assuming the 'RUL' column is the target variable (Remaining Useful Life)\n",
    "X = df.drop(columns=['RUL'])  # Features\n",
    "y = df['RUL']  # Target\n",
    "\n",
    "# Optionally normalize or scale the data (use MinMaxScaler or StandardScaler)\n",
    "from sklearn.preprocessing import StandardScaler\n",
    "from sklearn.preprocessing import MinMaxScaler\n",
    "scaler = StandardScaler()\n",
    "X_scaled = scaler.fit_transform(X)\n",
    "\n",
    "# Split the data into training and testing sets (80-20 split)\n",
    "from sklearn.model_selection import train_test_split\n",
    "X_train, X_test, y_train, y_test = train_test_split(X_scaled, y, test_size=0.2, random_state=42)\n",
    "\n",
    "print(X_train.shape, X_test.shape, y_train.shape, y_test.shape)  # Check shapes of the splits\n"
   ]
  },
  {
   "cell_type": "code",
   "execution_count": 36,
   "metadata": {},
   "outputs": [
    {
     "data": {
      "text/plain": [
       "8692     1043\n",
       "4489      956\n",
       "8163      469\n",
       "13837     176\n",
       "7709      943\n",
       "         ... \n",
       "4783      645\n",
       "12314     632\n",
       "8962      772\n",
       "5981      491\n",
       "1042       33\n",
       "Name: RUL, Length: 3013, dtype: int64"
      ]
     },
     "execution_count": 36,
     "metadata": {},
     "output_type": "execute_result"
    }
   ],
   "source": [
    "y_test"
   ]
  },
  {
   "cell_type": "code",
   "execution_count": null,
   "metadata": {
    "colab": {
     "base_uri": "https://localhost:8080/",
     "height": 3236
    },
    "id": "3_Tfb_4XmhtK",
    "outputId": "d403f9fc-f045-486e-d71e-743bede181a4"
   },
   "outputs": [
    {
     "name": "stdout",
     "output_type": "stream",
     "text": [
      "Iteration 0, Normalized MSE: 0.32222102568856215\n",
      "Iteration 100, Normalized MSE: 0.08118921858774839\n",
      "Iteration 200, Normalized MSE: 0.08118921858774839\n",
      "Iteration 300, Normalized MSE: 0.08118921858774839\n",
      "Iteration 400, Normalized MSE: 0.08118921858774839\n",
      "Iteration 500, Normalized MSE: 0.08118921858774839\n",
      "Iteration 600, Normalized MSE: 0.08118921858774839\n",
      "Iteration 700, Normalized MSE: 0.08118921858774839\n",
      "Iteration 800, Normalized MSE: 0.08118921858774839\n",
      "Iteration 900, Normalized MSE: 0.08118921858774839\n"
     ]
    },
    {
     "data": {
      "image/png": "[encoded data removed]",
      "text/plain": [
       "<Figure size 640x480 with 1 Axes>"
      ]
     },
     "metadata": {},
     "output_type": "display_data"
    }
   ],
   "source": [
    "import numpy as np\n",
    "import matplotlib.pyplot as plt\n",
    "from sklearn.preprocessing import MinMaxScaler\n",
    "\n",
    "# Redefine FeedForwardNN class with 3 hidden layers\n",
    "class FeedForwardNN:\n",
    "    def __init__(self, input_size, hidden_size1, hidden_size2, hidden_size3, output_size, learning_rate=0.000001):\n",
    "        self.learning_rate = learning_rate\n",
    "        \n",
    "        # Initialize weights and biases for 3 hidden layers\n",
    "        self.W1 = np.random.randn(input_size, hidden_size1) * np.sqrt(2. / input_size)\n",
    "        self.b1 = np.zeros((1, hidden_size1))\n",
    "        \n",
    "        self.W2 = np.random.randn(hidden_size1, hidden_size2) * np.sqrt(2. / hidden_size1)\n",
    "        self.b2 = np.zeros((1, hidden_size2))\n",
    "        \n",
    "        self.W3 = np.random.randn(hidden_size2, hidden_size3) * np.sqrt(2. / hidden_size2)\n",
    "        self.b3 = np.zeros((1, hidden_size3))\n",
    "        \n",
    "        self.W4 = np.random.randn(hidden_size3, output_size) * np.sqrt(2. / hidden_size3)\n",
    "        self.b4 = np.zeros((1, output_size))\n",
    "\n",
    "    def relu(self, x):\n",
    "        return np.maximum(0, x)\n",
    "\n",
    "    def relu_derivative(self, x):\n",
    "        return np.where(x > 0, 1, 0)\n",
    "\n",
    "    def forward(self, X):\n",
    "        # Forward pass through 3 hidden layers\n",
    "        self.Z1 = np.dot(X, self.W1) + self.b1\n",
    "        self.A1 = self.relu(self.Z1)  # ReLU activation for first hidden layer\n",
    "        \n",
    "        self.Z2 = np.dot(self.A1, self.W2) + self.b2\n",
    "        self.A2 = self.relu(self.Z2)  # ReLU activation for second hidden layer\n",
    "        \n",
    "        self.Z3 = np.dot(self.A2, self.W3) + self.b3\n",
    "        self.A3 = self.relu(self.Z3)  # ReLU activation for third hidden layer\n",
    "        \n",
    "        self.Z4 = np.dot(self.A3, self.W4) + self.b4\n",
    "        self.output = self.Z4  # No activation for output (linear)\n",
    "        \n",
    "        return self.output\n",
    "\n",
    "    def backward(self, X, y):\n",
    "        # Backpropagation through 3 hidden layers\n",
    "        output_error = y - self.output\n",
    "        output_delta = output_error  # No activation derivative for output layer\n",
    "\n",
    "        A3_error = output_delta.dot(self.W4.T)\n",
    "        A3_delta = A3_error * self.relu_derivative(self.A3)  # ReLU derivative for third hidden layer\n",
    "\n",
    "        A2_error = A3_delta.dot(self.W3.T)\n",
    "        A2_delta = A2_error * self.relu_derivative(self.A2)  # ReLU derivative for second hidden layer\n",
    "\n",
    "        A1_error = A2_delta.dot(self.W2.T)\n",
    "        A1_delta = A1_error * self.relu_derivative(self.A1)  # ReLU derivative for first hidden layer\n",
    "\n",
    "        # Gradient clipping to avoid exploding gradients\n",
    "        max_grad_norm = 1.0  # Set a maximum gradient norm\n",
    "        grad_norm = np.linalg.norm(A1_delta)\n",
    "        if grad_norm > max_grad_norm:\n",
    "            A1_delta = A1_delta * (max_grad_norm / grad_norm)\n",
    "\n",
    "        # Update weights and biases for each layer\n",
    "        self.W4 += self.A3.T.dot(output_delta) * self.learning_rate\n",
    "        self.b4 += np.sum(output_delta, axis=0, keepdims=True) * self.learning_rate\n",
    "        \n",
    "        self.W3 += self.A2.T.dot(A3_delta) * self.learning_rate\n",
    "        self.b3 += np.sum(A3_delta, axis=0, keepdims=True) * self.learning_rate\n",
    "        \n",
    "        self.W2 += self.A1.T.dot(A2_delta) * self.learning_rate\n",
    "        self.b2 += np.sum(A2_delta, axis=0, keepdims=True) * self.learning_rate\n",
    "        \n",
    "        self.W1 += X.T.dot(A1_delta) * self.learning_rate\n",
    "        self.b1 += np.sum(A1_delta, axis=0, keepdims=True) * self.learning_rate\n",
    "\n",
    "    def train(self, X, y, iterations):\n",
    "        mse_history = []\n",
    "        for i in range(iterations):\n",
    "            self.forward(X)\n",
    "            self.backward(X, y)  # y should already be reshaped (n_samples, 1)\n",
    "            \n",
    "            mse = np.mean(np.square(y - self.output))  # Compute Mean Squared Error\n",
    "\n",
    "            # Normalize MSE\n",
    "            mse_normalized = mse  # Normalize by the range of the target variable\n",
    "\n",
    "            # Avoid NaN by checking MSE\n",
    "            if np.isnan(mse) or np.isinf(mse):\n",
    "                print(f\"NaN or Inf encountered at iteration {i}. Stopping training.\")\n",
    "                break\n",
    "\n",
    "            mse_history.append(mse_normalized)\n",
    "            if i % 100 == 0:\n",
    "                print(f\"Iteration {i}, Normalized MSE: {mse_normalized}\")\n",
    "        \n",
    "        return mse_history\n",
    "\n",
    "    def predict(self, X):\n",
    "        return self.forward(X)\n",
    "\n",
    "# Fix parameters for hidden sizes and learning rate\n",
    "fixed_hidden_size1 = 3  # Fixed number of neurons in the first hidden layer\n",
    "fixed_hidden_size2 = 2  # Fixed number of neurons in the second hidden layer\n",
    "fixed_hidden_size3 = 1  # Fixed number of neurons in the third hidden layer\n",
    "fixed_learning_rate = 1e-4  # Fixed learning rate\n",
    "\n",
    "# Scale the target variable (RUL) to ensure MSE stays within a reasonable range\n",
    "scaler = MinMaxScaler()\n",
    "y_train_scaled = scaler.fit_transform(y_train.values.reshape(-1, 1))  # Ensure y_train is reshaped\n",
    "\n",
    "# Initialize and train the neural network with fixed hyperparameters\n",
    "nn = FeedForwardNN(input_size=X_train.shape[1], \n",
    "                   hidden_size1=fixed_hidden_size1, \n",
    "                   hidden_size2=fixed_hidden_size2, \n",
    "                   hidden_size3=fixed_hidden_size3, \n",
    "                   output_size=1, \n",
    "                   learning_rate=fixed_learning_rate)\n",
    "\n",
    "# Train the network and capture the normalized MSE history\n",
    "mse_history = nn.train(X_train, y_train_scaled, iterations=1000)\n",
    "\n",
    "# Plot normalized MSE over iterations\n",
    "plt.plot(mse_history)\n",
    "plt.xlabel('Iterations')\n",
    "plt.ylabel('Normalized Mean Squared Error')\n",
    "plt.title('Training Normalized MSE over Iterations')\n",
    "plt.show()\n",
    "\n",
    "# You can now use the trained model to make predictions on test data\n",
    "y_pred_scaled = nn.predict(X_test)\n",
    "\n",
    "# To unscale the predictions back to original RUL values, use the inverse transform\n",
    "y_pred = scaler.inverse_transform(y_pred_scaled)\n"
   ]
  },
  {
   "cell_type": "code",
   "execution_count": 20,
   "metadata": {
    "colab": {
     "base_uri": "https://localhost:8080/",
     "height": 467
    },
    "id": "52DEUS8-r7xk",
    "outputId": "1b79614c-fb26-4324-b768-96ecfa429ef7"
   },
   "outputs": [
    {
     "name": "stdout",
     "output_type": "stream",
     "text": [
      "[0.92137809] [0.4909499]\n"
     ]
    },
    {
     "data": {
      "image/png": "[encoded data removed]",
      "text/plain": [
       "<Figure size 640x480 with 1 Axes>"
      ]
     },
     "metadata": {},
     "output_type": "display_data"
    },
    {
     "name": "stdout",
     "output_type": "stream",
     "text": [
      "Mean Square Error: 0.08088386855577023\n"
     ]
    }
   ],
   "source": [
    "# Make predictions on the test set\n",
    "predictions = nn.predict(X_test)\n",
    "\n",
    "y_test_scaled = scaler.transform(y_test.values.reshape(-1, 1))\n",
    "\n",
    "print(y_test_scaled[0], y_pred_scaled[0])\n",
    "# Plot predicted vs actual RUL values\n",
    "plt.plot(y_test_scaled, label='Actual RUL')\n",
    "plt.plot(y_pred_scaled, label='Predicted RUL')\n",
    "plt.xlabel('Test Patterns')\n",
    "plt.ylabel('Remaining Useful Life')\n",
    "plt.legend()\n",
    "plt.show()\n",
    "\n",
    "# Calculate error between predicted and actual RUL\n",
    "error = y_test_scaled - y_pred_scaled\n",
    "print(f\"Mean Square Error: {np.mean(np.square(error))}\")\n"
   ]
  },
  {
   "cell_type": "code",
   "execution_count": 35,
   "metadata": {
    "colab": {
     "base_uri": "https://localhost:8080/",
     "height": 0
    },
    "id": "xuqho43isAIa",
    "outputId": "02643466-9c10-443f-f12b-e62e7fd3533c"
   },
   "outputs": [
    {
     "name": "stdout",
     "output_type": "stream",
     "text": [
      "[[0.4909499]\n",
      " [0.4909499]\n",
      " [0.4909499]\n",
      " ...\n",
      " [0.4909499]\n",
      " [0.4909499]\n",
      " [0.4909499]]\n"
     ]
    }
   ],
   "source": [
    "# Save predictions to a CSV file\n",
    "predictions_df = pd.DataFrame(predictions, columns=['Predicted RUL'])\n",
    "predictions_df.to_csv('predictions.csv', index=False)\n",
    "\n",
    "\n",
    "# Add the 'allow_pickle=True' argument to np.save to avoid error\n",
    "np.save('weights_W1.npy', nn.W1, allow_pickle=True)  # Use .npy extension for NumPy arrays\n",
    "np.save('weights_W2.npy', nn.W2, allow_pickle=True)  # Use .npy extension for NumPy arrays\n",
    "\n",
    "# Load weights from the saved files\n",
    "W1_loaded = np.load('weights_W1.npy', allow_pickle=True)  # Load W1\n",
    "W2_loaded = np.load('weights_W2.npy', allow_pickle=True)  # Load W2\n",
    "\n",
    "# Assign weights to your neural network\n",
    "nn.W1 = W1_loaded\n",
    "nn.W2 = W2_loaded\n",
    "\n",
    "# Make predictions on new data (replace new_data with your actual data)\n",
    "num_features = X_test.shape[1]  # Get the number of features\n",
    "new_data = np.zeros((1, num_features))  # Create a single data point for prediction\n",
    "\n",
    "print(predictions)\n",
    "\n",
    "\n",
    "\n"
   ]
  },
  {
   "cell_type": "code",
   "execution_count": 34,
   "metadata": {
    "colab": {
     "base_uri": "https://localhost:8080/",
     "height": 1000
    },
    "id": "bujLGCaLTv07",
    "outputId": "b8914baa-6f22-4e6a-ab37-cb154aa1819e"
   },
   "outputs": [
    {
     "name": "stdout",
     "output_type": "stream",
     "text": [
      "Loaded W1 shape: (8, 3)\n",
      "Loaded W1 (first few rows):\n",
      " [[ 0.13777108  0.16637081 -0.13783576]\n",
      " [ 0.66582517 -0.32334491  0.5272522 ]\n",
      " [-0.55138773  0.58075291 -0.73589418]\n",
      " [-0.47729802  0.3830831   0.29692247]\n",
      " [ 0.07054919  0.69724911  0.03901701]]\n",
      "\n",
      "Loaded W2 shape: (3, 2)\n",
      "Loaded W2:\n",
      " [[-1.18741986  0.09901296]\n",
      " [-2.00879395  0.61024846]\n",
      " [-0.65268579  0.12098405]]\n",
      "Current working directory: c:\\Users\\JOEL JOSEPH\\OneDrive - Indian Institute of Technology Guwahati\\Desktop\\Jojo\\Soft Computing Project\n",
      "Files saved successfully:\n",
      "weights_W1.csv\n",
      "weights_W2.csv\n",
      "printed_weights.csv\n"
     ]
    }
   ],
   "source": [
    "\n",
    "# --- View the loaded weights ---\n",
    "print(\"Loaded W1 shape:\", W1_loaded.shape)\n",
    "print(\"Loaded W1 (first few rows):\\n\", W1_loaded[:5])  # Print a few rows for preview\n",
    "\n",
    "print(\"\\nLoaded W2 shape:\", W2_loaded.shape)\n",
    "print(\"Loaded W2:\\n\", W2_loaded)\n",
    "\n",
    "# Convert W1_loaded and W2_loaded to pandas DataFrames\n",
    "W1_df = pd.DataFrame(W1_loaded)\n",
    "W2_df = pd.DataFrame(W2_loaded)\n",
    "\n",
    "# Get the current working directory (where your code is running)\n",
    "current_dir = os.getcwd()\n",
    "print(\"Current working directory:\", current_dir)\n",
    "\n",
    "# Save DataFrames to CSV files in the current directory\n",
    "W1_df.to_csv(os.path.join(current_dir, 'weights_W1.csv'), index=False)\n",
    "W2_df.to_csv(os.path.join(current_dir, 'weights_W2.csv'), index=False)\n",
    "\n",
    "# Capture printed output using StringIO\n",
    "output = io.StringIO()\n",
    "\n",
    "# Print weights to StringIO to capture the printed output\n",
    "print(\"Loaded W1 shape:\", W1_loaded.shape, file=output)\n",
    "print(\"Loaded W1 (first few rows):\\n\", W1_loaded[:5], file=output)\n",
    "print(\"\\nLoaded W2 shape:\", W2_loaded.shape, file=output)\n",
    "print(\"Loaded W2:\\n\", W2_loaded, file=output)\n",
    "\n",
    "# Get the captured output as a string\n",
    "printed_weights = output.getvalue()\n",
    "\n",
    "# Now save this printed output into a CSV file\n",
    "# Convert the printed output string into a format suitable for CSV (each line becomes a row)\n",
    "printed_weights_lines = printed_weights.split(\"\\n\")\n",
    "\n",
    "# Create a DataFrame from the printed weights (each line as a row)\n",
    "printed_weights_df = pd.DataFrame(printed_weights_lines, columns=[\"Printed Weights\"])\n",
    "\n",
    "# Save the DataFrame to a CSV file\n",
    "printed_weights_df.to_csv(os.path.join(current_dir, 'printed_weights.csv'), index=False)\n",
    "\n",
    "# Confirm files are saved in the current directory\n",
    "print(\"Files saved successfully:\")\n",
    "print(\"weights_W1.csv\")\n",
    "print(\"weights_W2.csv\")\n",
    "print(\"printed_weights.csv\")"
   ]
  }
 ],
 "metadata": {
  "colab": {
   "provenance": []
  },
  "kernelspec": {
   "display_name": "Python 3",
   "name": "python3"
  },
  "language_info": {
   "codemirror_mode": {
    "name": "ipython",
    "version": 3
   },
   "file_extension": ".py",
   "mimetype": "text/x-python",
   "name": "python",
   "nbconvert_exporter": "python",
   "pygments_lexer": "ipython3",
   "version": "3.12.5"
  }
 },
 "nbformat": 4,
 "nbformat_minor": 0
}
